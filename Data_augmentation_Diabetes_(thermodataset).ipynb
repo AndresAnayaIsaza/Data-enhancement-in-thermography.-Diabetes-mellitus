{
  "nbformat": 4,
  "nbformat_minor": 0,
  "metadata": {
    "colab": {
      "name": "Training_with_transferlearnig_thermodataset.ipynb",
      "provenance": [],
      "machine_shape": "hm"
    },
    "kernelspec": {
      "name": "python3",
      "display_name": "Python 3"
    },
    "language_info": {
      "name": "python"
    },
    "accelerator": "GPU"
  },
  "cells": [
    {
      "cell_type": "code",
      "execution_count": null,
      "metadata": {
        "id": "3IOq7MQVMubu"
      },
      "outputs": [],
      "source": [
        "import numpy as np\n",
        "import matplotlib.pyplot as plt\n",
        "import matplotlib.patches as patches\n",
        "import seaborn as sns\n",
        "import pandas as pd\n",
        "import scipy.io as sio\n",
        "import glob\n",
        "import cv2\n",
        "from sklearn import svm\n",
        "from scipy import signal\n",
        "from skimage.filters import threshold_otsu\n",
        "from matplotlib.patches import Circle\n",
        "from sklearn.cluster import KMeans\n",
        "from scipy import stats"
      ]
    },
    {
      "cell_type": "code",
      "source": [
        "!wget https://raw.githubusercontent.com/LxMera/proyectos_investigacion/main/diabetes.py\n",
        "!pip install tensorflow-io\n",
        "!pip install tensorflow-addons"
      ],
      "metadata": {
        "colab": {
          "base_uri": "https://localhost:8080/"
        },
        "id": "DrXEHToqOm7A",
        "outputId": "804865d9-0de8-4fdb-87b4-8a27cb6572f0"
      },
      "execution_count": null,
      "outputs": [
        {
          "output_type": "stream",
          "name": "stdout",
          "text": [
            "--2021-12-28 11:57:29--  https://raw.githubusercontent.com/LxMera/proyectos_investigacion/main/diabetes.py\n",
            "Resolving raw.githubusercontent.com (raw.githubusercontent.com)... 185.199.109.133, 185.199.111.133, 185.199.110.133, ...\n",
            "Connecting to raw.githubusercontent.com (raw.githubusercontent.com)|185.199.109.133|:443... connected.\n",
            "HTTP request sent, awaiting response... 200 OK\n",
            "Length: 2018 (2.0K) [text/plain]\n",
            "Saving to: ‘diabetes.py’\n",
            "\n",
            "diabetes.py         100%[===================>]   1.97K  --.-KB/s    in 0s      \n",
            "\n",
            "2021-12-28 11:57:30 (46.0 MB/s) - ‘diabetes.py’ saved [2018/2018]\n",
            "\n",
            "Collecting tensorflow-io\n",
            "  Downloading tensorflow_io-0.23.1-cp37-cp37m-manylinux_2_12_x86_64.manylinux2010_x86_64.whl (23.1 MB)\n",
            "\u001b[K     |████████████████████████████████| 23.1 MB 561 kB/s \n",
            "\u001b[?25hCollecting tensorflow-io-gcs-filesystem==0.23.1\n",
            "  Downloading tensorflow_io_gcs_filesystem-0.23.1-cp37-cp37m-manylinux_2_12_x86_64.manylinux2010_x86_64.whl (2.1 MB)\n",
            "\u001b[K     |████████████████████████████████| 2.1 MB 54.9 MB/s \n",
            "\u001b[?25hInstalling collected packages: tensorflow-io-gcs-filesystem, tensorflow-io\n",
            "  Attempting uninstall: tensorflow-io-gcs-filesystem\n",
            "    Found existing installation: tensorflow-io-gcs-filesystem 0.22.0\n",
            "    Uninstalling tensorflow-io-gcs-filesystem-0.22.0:\n",
            "      Successfully uninstalled tensorflow-io-gcs-filesystem-0.22.0\n",
            "Successfully installed tensorflow-io-0.23.1 tensorflow-io-gcs-filesystem-0.23.1\n",
            "Collecting tensorflow-addons\n",
            "  Downloading tensorflow_addons-0.15.0-cp37-cp37m-manylinux_2_12_x86_64.manylinux2010_x86_64.whl (1.1 MB)\n",
            "\u001b[K     |████████████████████████████████| 1.1 MB 5.2 MB/s \n",
            "\u001b[?25hRequirement already satisfied: typeguard>=2.7 in /usr/local/lib/python3.7/dist-packages (from tensorflow-addons) (2.7.1)\n",
            "Installing collected packages: tensorflow-addons\n",
            "Successfully installed tensorflow-addons-0.15.0\n"
          ]
        }
      ]
    },
    {
      "cell_type": "code",
      "source": [
        "import tensorflow_io as tfio\n",
        "import tensorflow_addons as tfa\n",
        "import diabetes as dia"
      ],
      "metadata": {
        "id": "FdxSu1R5OsuP"
      },
      "execution_count": null,
      "outputs": []
    },
    {
      "cell_type": "code",
      "source": [
        "data=sio.loadmat('/content/drive/MyDrive/AumentoThermo/Datasets/ima_distor.mat')"
      ],
      "metadata": {
        "id": "BpCTsndKM_8g"
      },
      "execution_count": null,
      "outputs": []
    },
    {
      "cell_type": "code",
      "source": [
        "images=data['images']\n",
        "images=((images-np.min(images))/(np.max(images)-np.min(images))).astype('float32')\n",
        "labels=data['labels'][0]\n",
        "np.shape(images), np.shape(labels)"
      ],
      "metadata": {
        "colab": {
          "base_uri": "https://localhost:8080/"
        },
        "id": "kXzzHo57NGp4",
        "outputId": "8191f42e-8f3c-4ac6-bdb9-736495a730b2"
      },
      "execution_count": null,
      "outputs": [
        {
          "output_type": "execute_result",
          "data": {
            "text/plain": [
              "((6695, 128, 128, 3), (6695,))"
            ]
          },
          "metadata": {},
          "execution_count": 5
        }
      ]
    },
    {
      "cell_type": "code",
      "source": [
        "Class=['man', 'cat', 'car']\n",
        "sx=np.shape(labels)[0]\n",
        "ind=np.random.choice(sx)\n",
        "plt.title(Class[labels[ind]])\n",
        "plt.imshow(images[ind])"
      ],
      "metadata": {
        "colab": {
          "base_uri": "https://localhost:8080/",
          "height": 301
        },
        "id": "BM05ERpRNIm_",
        "outputId": "de8e4385-9567-4520-934f-120c7a9c468a"
      },
      "execution_count": null,
      "outputs": [
        {
          "output_type": "execute_result",
          "data": {
            "text/plain": [
              "<matplotlib.image.AxesImage at 0x7fb4d91ef7d0>"
            ]
          },
          "metadata": {},
          "execution_count": 6
        },
        {
          "output_type": "display_data",
          "data": {
            "image/png": "[encoded data removed]",
            "text/plain": [
              "<Figure size 432x288 with 1 Axes>"
            ]
          },
          "metadata": {}
        }
      ]
    },
    {
      "cell_type": "code",
      "source": [
        "from tensorflow.keras import applications as ap\n",
        "from tensorflow.keras.models import Sequential\n",
        "from tensorflow.keras.layers import Dense\n",
        "import tensorflow.compat.v1.keras.backend as K\n",
        "import os\n",
        "import math\n",
        "from tensorflow.keras.callbacks import ModelCheckpoint, EarlyStopping\n",
        "import tensorflow as tf\n",
        "import time\n",
        "from IPython.display import clear_output"
      ],
      "metadata": {
        "id": "H4jt-6KINMLd"
      },
      "execution_count": null,
      "outputs": []
    },
    {
      "cell_type": "code",
      "source": [
        "def get_model(network, opt='adadelta', loss_name='categorical_crossentropy', input_shape=(128,128,3), classes=3, weights='imagenet'):\n",
        "  try:\n",
        "    del model\n",
        "  except:\n",
        "    print('done')\n",
        "  model=Sequential()\n",
        "  if network=='ResNet50V2':\n",
        "    model.add(ap.ResNet50V2(include_top=False, weights=weights, input_shape=input_shape, pooling='avg', classes=classes)) # The input must have 3 channels\n",
        "  if network=='EfficientNetB7':\n",
        "    model.add(ap.EfficientNetB7(include_top=False, weights=weights, input_shape=input_shape, pooling='avg', classes=classes)) \n",
        "  if network=='InceptionResNetV2':\n",
        "    model.add(ap.InceptionResNetV2(include_top=False, weights=weights, input_shape=input_shape, pooling='avg', classes=classes)) \n",
        "  if network=='InceptionV3':\n",
        "    model.add(ap.InceptionV3(include_top=False, weights=weights, input_shape=input_shape, pooling='avg', classes=classes)) \n",
        "  if network=='NASNetLarge':\n",
        "    model.add(ap.NASNetLarge(include_top=False, weights=weights, input_shape=input_shape, pooling='avg', classes=classes))\n",
        "  if network=='VGG19':\n",
        "    model.add(ap.VGG19(include_top=False, weights=weights, input_shape=input_shape, pooling='avg', classes=classes)) \n",
        "  if network=='Xception':\n",
        "    model.add(ap.Xception(include_top=False, weights=weights, input_shape=input_shape, pooling='avg', classes=classes))\n",
        "  if network=='DenseNet121':\n",
        "    model.add(ap.DenseNet121(include_top=False, weights=weights, input_shape=input_shape, pooling='avg', classes=classes))\n",
        "  \n",
        "  model.add(Dense(classes, activation='softmax'))\n",
        "  model.compile(optimizer=opt, loss=loss_name, metrics=['acc', tf.keras.metrics.Recall(), tf.keras.metrics.FalsePositives()])\n",
        "  return model"
      ],
      "metadata": {
        "id": "IOT3FyuKNN1P"
      },
      "execution_count": null,
      "outputs": []
    },
    {
      "cell_type": "code",
      "source": [
        "path='/content/drive/MyDrive/AumentoThermo/Results/Augmento/referencia'"
      ],
      "metadata": {
        "id": "4RGTejaJNjb_"
      },
      "execution_count": null,
      "outputs": []
    },
    {
      "cell_type": "code",
      "source": [
        "cs=glob.glob(path+'/results_csv/*.csv')"
      ],
      "metadata": {
        "id": "J-_WaW-BNk2m"
      },
      "execution_count": null,
      "outputs": []
    },
    {
      "cell_type": "code",
      "source": [
        "cero=pd.read_csv(cs[0])\n",
        "cero=cero.drop(cero.columns[:np.where(cero.columns=='run_n')[0][0]], axis=1)"
      ],
      "metadata": {
        "id": "2PUO7erENmNG"
      },
      "execution_count": null,
      "outputs": []
    },
    {
      "cell_type": "code",
      "source": [
        "df = pd.DataFrame(columns=cero.columns)\n",
        "df.head()"
      ],
      "metadata": {
        "colab": {
          "base_uri": "https://localhost:8080/",
          "height": 50
        },
        "id": "eUDNixknNnmi",
        "outputId": "89a034c1-0233-4e6d-9a60-c635513183fb"
      },
      "execution_count": null,
      "outputs": [
        {
          "output_type": "execute_result",
          "data": {
            "text/html": [
              "\n",
              "  <div id=\"df-8da1d979-3929-4b85-91a9-d18563429fe8\">\n",
              "    <div class=\"colab-df-container\">\n",
              "      <div>\n",
              "<style scoped>\n",
              "    .dataframe tbody tr th:only-of-type {\n",
              "        vertical-align: middle;\n",
              "    }\n",
              "\n",
              "    .dataframe tbody tr th {\n",
              "        vertical-align: top;\n",
              "    }\n",
              "\n",
              "    .dataframe thead th {\n",
              "        text-align: right;\n",
              "    }\n",
              "</style>\n",
              "<table border=\"1\" class=\"dataframe\">\n",
              "  <thead>\n",
              "    <tr style=\"text-align: right;\">\n",
              "      <th></th>\n",
              "      <th>run_n</th>\n",
              "      <th>k_fold</th>\n",
              "      <th>network</th>\n",
              "      <th>optimizer</th>\n",
              "      <th>loss</th>\n",
              "      <th>epochs</th>\n",
              "      <th>total_parameters</th>\n",
              "      <th>time</th>\n",
              "      <th>transfer</th>\n",
              "      <th>augm</th>\n",
              "      <th>Class</th>\n",
              "      <th>TP</th>\n",
              "      <th>TN</th>\n",
              "      <th>FP</th>\n",
              "      <th>FN</th>\n",
              "      <th>result_mat</th>\n",
              "    </tr>\n",
              "  </thead>\n",
              "  <tbody>\n",
              "  </tbody>\n",
              "</table>\n",
              "</div>\n",
              "      <button class=\"colab-df-convert\" onclick=\"convertToInteractive('df-8da1d979-3929-4b85-91a9-d18563429fe8')\"\n",
              "              title=\"Convert this dataframe to an interactive table.\"\n",
              "              style=\"display:none;\">\n",
              "        \n",
              "  <svg xmlns=\"http://www.w3.org/2000/svg\" height=\"24px\"viewBox=\"0 0 24 24\"\n",
              "       width=\"24px\">\n",
              "    <path d=\"M0 0h24v24H0V0z\" fill=\"none\"/>\n",
              "    <path d=\"M18.56 5.44l.94 2.06.94-2.06 2.06-.94-2.06-.94-.94-2.06-.94 2.06-2.06.94zm-11 1L8.5 8.5l.94-2.06 2.06-.94-2.06-.94L8.5 2.5l-.94 2.06-2.06.94zm10 10l.94 2.06.94-2.06 2.06-.94-2.06-.94-.94-2.06-.94 2.06-2.06.94z\"/><path d=\"M17.41 7.96l-1.37-1.37c-.4-.4-.92-.59-1.43-.59-.52 0-1.04.2-1.43.59L10.3 9.45l-7.72 7.72c-.78.78-.78 2.05 0 2.83L4 21.41c.39.39.9.59 1.41.59.51 0 1.02-.2 1.41-.59l7.78-7.78 2.81-2.81c.8-.78.8-2.07 0-2.86zM5.41 20L4 18.59l7.72-7.72 1.47 1.35L5.41 20z\"/>\n",
              "  </svg>\n",
              "      </button>\n",
              "      \n",
              "  <style>\n",
              "    .colab-df-container {\n",
              "      display:flex;\n",
              "      flex-wrap:wrap;\n",
              "      gap: 12px;\n",
              "    }\n",
              "\n",
              "    .colab-df-convert {\n",
              "      background-color: #E8F0FE;\n",
              "      border: none;\n",
              "      border-radius: 50%;\n",
              "      cursor: pointer;\n",
              "      display: none;\n",
              "      fill: #1967D2;\n",
              "      height: 32px;\n",
              "      padding: 0 0 0 0;\n",
              "      width: 32px;\n",
              "    }\n",
              "\n",
              "    .colab-df-convert:hover {\n",
              "      background-color: #E2EBFA;\n",
              "      box-shadow: 0px 1px 2px rgba(60, 64, 67, 0.3), 0px 1px 3px 1px rgba(60, 64, 67, 0.15);\n",
              "      fill: #174EA6;\n",
              "    }\n",
              "\n",
              "    [theme=dark] .colab-df-convert {\n",
              "      background-color: #3B4455;\n",
              "      fill: #D2E3FC;\n",
              "    }\n",
              "\n",
              "    [theme=dark] .colab-df-convert:hover {\n",
              "      background-color: #434B5C;\n",
              "      box-shadow: 0px 1px 3px 1px rgba(0, 0, 0, 0.15);\n",
              "      filter: drop-shadow(0px 1px 2px rgba(0, 0, 0, 0.3));\n",
              "      fill: #FFFFFF;\n",
              "    }\n",
              "  </style>\n",
              "\n",
              "      <script>\n",
              "        const buttonEl =\n",
              "          document.querySelector('#df-8da1d979-3929-4b85-91a9-d18563429fe8 button.colab-df-convert');\n",
              "        buttonEl.style.display =\n",
              "          google.colab.kernel.accessAllowed ? 'block' : 'none';\n",
              "\n",
              "        async function convertToInteractive(key) {\n",
              "          const element = document.querySelector('#df-8da1d979-3929-4b85-91a9-d18563429fe8');\n",
              "          const dataTable =\n",
              "            await google.colab.kernel.invokeFunction('convertToInteractive',\n",
              "                                                     [key], {});\n",
              "          if (!dataTable) return;\n",
              "\n",
              "          const docLinkHtml = 'Like what you see? Visit the ' +\n",
              "            '<a target=\"_blank\" href=https://colab.research.google.com/notebooks/data_table.ipynb>data table notebook</a>'\n",
              "            + ' to learn more about interactive tables.';\n",
              "          element.innerHTML = '';\n",
              "          dataTable['output_type'] = 'display_data';\n",
              "          await google.colab.output.renderOutput(dataTable, element);\n",
              "          const docLink = document.createElement('div');\n",
              "          docLink.innerHTML = docLinkHtml;\n",
              "          element.appendChild(docLink);\n",
              "        }\n",
              "      </script>\n",
              "    </div>\n",
              "  </div>\n",
              "  "
            ],
            "text/plain": [
              "Empty DataFrame\n",
              "Columns: [run_n, k_fold, network, optimizer, loss, epochs, total_parameters, time, transfer, augm, Class, TP, TN, FP, FN, result_mat]\n",
              "Index: []"
            ]
          },
          "metadata": {},
          "execution_count": 12
        }
      ]
    },
    {
      "cell_type": "code",
      "source": [
        "for name_c in cs:\n",
        "  csv=pd.read_csv(name_c)\n",
        "  df=df.append(csv, ignore_index=True)"
      ],
      "metadata": {
        "id": "Mfxt4Wh5Npg-"
      },
      "execution_count": null,
      "outputs": []
    },
    {
      "cell_type": "code",
      "source": [
        "TP=np.array(df.loc[:,'TP'])\n",
        "TN=np.array(df.loc[:,'TN'])\n",
        "FP=np.array(df.loc[:,'FP'])\n",
        "FN=np.array(df.loc[:,'FN'])"
      ],
      "metadata": {
        "id": "Ks8TyWy3NP9n"
      },
      "execution_count": null,
      "outputs": []
    },
    {
      "cell_type": "code",
      "source": [
        "df['Accuracy']= (TP+TN)/(TP+TN+FP+FN)\n",
        "df['F1_score'] = (2*TP)/(2*TP+FP+FN)\n",
        "df['Sensitivity'] = TP/(TP+FN)\n",
        "df['Specificity'] = TN/(TN+FP)\n",
        "df['Precision'] = TP/(TP+FP)\n",
        "df['mean_metrics']=(((TP+TN)/(TP+TN+FP+FN))+((2*TP)/(2*TP+FP+FN))+(TP/(TP+FN))+(TN/(TN+FP))+(TP/(TP+FP)))/5"
      ],
      "metadata": {
        "id": "VTdah_q5Nt0w"
      },
      "execution_count": null,
      "outputs": []
    },
    {
      "cell_type": "code",
      "source": [
        "transf=df[[\"result_mat\", \"Accuracy\", 'F1_score', 'Sensitivity', 'Specificity', 'Precision', 'mean_metrics']].sort_values(by=['mean_metrics'], ascending=False).iloc[0,:][0]"
      ],
      "metadata": {
        "id": "hQ_nEK__N42v"
      },
      "execution_count": null,
      "outputs": []
    },
    {
      "cell_type": "code",
      "source": [
        "wig=path+'/Weights/'+transf.replace('_r.mat','w.h5')"
      ],
      "metadata": {
        "id": "jX36EoTRN64m"
      },
      "execution_count": null,
      "outputs": []
    },
    {
      "cell_type": "code",
      "source": [
        "def transfer_model(path_model, confirmation_of_weights=True):\n",
        "  model=get_model('ResNet50V2',weights=None)\n",
        "  model.load_weights(path_model)\n",
        "  y_hat=model.predict(images)\n",
        "  hat=np.argmax(y_hat, axis=1)\n",
        "  print('Accuracy\\t:',np.mean(labels==hat))\n",
        "  new_model=get_model('ResNet50V2',input_shape=(199,88,3), classes=2, weights=None)\n",
        "  new_model.layers[0].set_weights(model.layers[0].get_weights())\n",
        "\n",
        "  if confirmation_of_weights:\n",
        "    w1=new_model.layers[0]\n",
        "    w2=model.layers[0]\n",
        "    ind=np.random.choice(269)\n",
        "    print(w1.weights[ind]==w2.weights[ind])\n",
        "  return new_model"
      ],
      "metadata": {
        "id": "xEv8qCizN9MF"
      },
      "execution_count": null,
      "outputs": []
    },
    {
      "cell_type": "code",
      "source": [
        "modelo=transfer_model(wig)"
      ],
      "metadata": {
        "colab": {
          "base_uri": "https://localhost:8080/"
        },
        "id": "qISEzcvpOAFM",
        "outputId": "ab252031-c127-4b3d-9d2c-a2e9dbc3fb04"
      },
      "execution_count": null,
      "outputs": [
        {
          "output_type": "stream",
          "name": "stdout",
          "text": [
            "done\n",
            "Accuracy\t: 0.9952203136669157\n",
            "done\n",
            "tf.Tensor([ True  True  True ...  True  True  True], shape=(1024,), dtype=bool)\n"
          ]
        }
      ]
    },
    {
      "cell_type": "code",
      "source": [
        "root='/content/drive/MyDrive/TrainModels/'\n",
        "info=pd.read_csv(root+'ThermoDataBase.csv')\n",
        "infA=sio.loadmat(root+'infoadd.mat')\n",
        "info.head()"
      ],
      "metadata": {
        "colab": {
          "base_uri": "https://localhost:8080/",
          "height": 206
        },
        "id": "JDvySclUOJkY",
        "outputId": "7118c686-8f23-4469-fd01-aba9fcaca5b7"
      },
      "execution_count": null,
      "outputs": [
        {
          "output_type": "execute_result",
          "data": {
            "text/html": [
              "\n",
              "  <div id=\"df-e4393298-7136-45e8-a6ed-2cb70fb2e5b9\">\n",
              "    <div class=\"colab-df-container\">\n",
              "      <div>\n",
              "<style scoped>\n",
              "    .dataframe tbody tr th:only-of-type {\n",
              "        vertical-align: middle;\n",
              "    }\n",
              "\n",
              "    .dataframe tbody tr th {\n",
              "        vertical-align: top;\n",
              "    }\n",
              "\n",
              "    .dataframe thead th {\n",
              "        text-align: right;\n",
              "    }\n",
              "</style>\n",
              "<table border=\"1\" class=\"dataframe\">\n",
              "  <thead>\n",
              "    <tr style=\"text-align: right;\">\n",
              "      <th></th>\n",
              "      <th>Subject</th>\n",
              "      <th>Gender</th>\n",
              "      <th>Age</th>\n",
              "      <th>Weight</th>\n",
              "      <th>Heigh</th>\n",
              "      <th>IMC</th>\n",
              "      <th>General_R</th>\n",
              "      <th>LCA_R</th>\n",
              "      <th>LPA_R</th>\n",
              "      <th>MCA_R</th>\n",
              "      <th>MPA_R</th>\n",
              "      <th>TCI_R</th>\n",
              "      <th>General_L</th>\n",
              "      <th>LCA_L</th>\n",
              "      <th>LPA_L</th>\n",
              "      <th>MCA_L</th>\n",
              "      <th>MPA_L</th>\n",
              "      <th>TCI_L</th>\n",
              "    </tr>\n",
              "  </thead>\n",
              "  <tbody>\n",
              "    <tr>\n",
              "      <th>0</th>\n",
              "      <td>DM001</td>\n",
              "      <td>M</td>\n",
              "      <td>55.0</td>\n",
              "      <td>82.0</td>\n",
              "      <td>1.66</td>\n",
              "      <td>29.76</td>\n",
              "      <td>32.47</td>\n",
              "      <td>32.08</td>\n",
              "      <td>32.70</td>\n",
              "      <td>32.36</td>\n",
              "      <td>32.79</td>\n",
              "      <td>6.48</td>\n",
              "      <td>32.09</td>\n",
              "      <td>31.53</td>\n",
              "      <td>32.39</td>\n",
              "      <td>31.81</td>\n",
              "      <td>32.39</td>\n",
              "      <td>6.03</td>\n",
              "    </tr>\n",
              "    <tr>\n",
              "      <th>1</th>\n",
              "      <td>DM002</td>\n",
              "      <td>M</td>\n",
              "      <td>60.0</td>\n",
              "      <td>90.0</td>\n",
              "      <td>1.71</td>\n",
              "      <td>30.78</td>\n",
              "      <td>26.99</td>\n",
              "      <td>26.54</td>\n",
              "      <td>26.95</td>\n",
              "      <td>26.84</td>\n",
              "      <td>27.38</td>\n",
              "      <td>0.93</td>\n",
              "      <td>26.33</td>\n",
              "      <td>26.39</td>\n",
              "      <td>25.93</td>\n",
              "      <td>26.75</td>\n",
              "      <td>26.45</td>\n",
              "      <td>0.38</td>\n",
              "    </tr>\n",
              "    <tr>\n",
              "      <th>2</th>\n",
              "      <td>DM003</td>\n",
              "      <td>F</td>\n",
              "      <td>66.0</td>\n",
              "      <td>NaN</td>\n",
              "      <td>NaN</td>\n",
              "      <td>NaN</td>\n",
              "      <td>28.04</td>\n",
              "      <td>28.22</td>\n",
              "      <td>27.57</td>\n",
              "      <td>29.06</td>\n",
              "      <td>27.70</td>\n",
              "      <td>2.14</td>\n",
              "      <td>27.19</td>\n",
              "      <td>26.96</td>\n",
              "      <td>26.96</td>\n",
              "      <td>27.90</td>\n",
              "      <td>27.38</td>\n",
              "      <td>1.30</td>\n",
              "    </tr>\n",
              "    <tr>\n",
              "      <th>3</th>\n",
              "      <td>DM004</td>\n",
              "      <td>M</td>\n",
              "      <td>57.0</td>\n",
              "      <td>NaN</td>\n",
              "      <td>NaN</td>\n",
              "      <td>NaN</td>\n",
              "      <td>32.32</td>\n",
              "      <td>31.67</td>\n",
              "      <td>32.54</td>\n",
              "      <td>31.86</td>\n",
              "      <td>32.61</td>\n",
              "      <td>6.17</td>\n",
              "      <td>30.71</td>\n",
              "      <td>29.78</td>\n",
              "      <td>30.96</td>\n",
              "      <td>31.04</td>\n",
              "      <td>30.72</td>\n",
              "      <td>4.62</td>\n",
              "    </tr>\n",
              "    <tr>\n",
              "      <th>4</th>\n",
              "      <td>DM005</td>\n",
              "      <td>M</td>\n",
              "      <td>40.0</td>\n",
              "      <td>NaN</td>\n",
              "      <td>NaN</td>\n",
              "      <td>NaN</td>\n",
              "      <td>24.48</td>\n",
              "      <td>24.19</td>\n",
              "      <td>24.48</td>\n",
              "      <td>24.26</td>\n",
              "      <td>24.52</td>\n",
              "      <td>1.64</td>\n",
              "      <td>25.36</td>\n",
              "      <td>24.40</td>\n",
              "      <td>25.72</td>\n",
              "      <td>24.88</td>\n",
              "      <td>25.57</td>\n",
              "      <td>0.87</td>\n",
              "    </tr>\n",
              "  </tbody>\n",
              "</table>\n",
              "</div>\n",
              "      <button class=\"colab-df-convert\" onclick=\"convertToInteractive('df-e4393298-7136-45e8-a6ed-2cb70fb2e5b9')\"\n",
              "              title=\"Convert this dataframe to an interactive table.\"\n",
              "              style=\"display:none;\">\n",
              "        \n",
              "  <svg xmlns=\"http://www.w3.org/2000/svg\" height=\"24px\"viewBox=\"0 0 24 24\"\n",
              "       width=\"24px\">\n",
              "    <path d=\"M0 0h24v24H0V0z\" fill=\"none\"/>\n",
              "    <path d=\"M18.56 5.44l.94 2.06.94-2.06 2.06-.94-2.06-.94-.94-2.06-.94 2.06-2.06.94zm-11 1L8.5 8.5l.94-2.06 2.06-.94-2.06-.94L8.5 2.5l-.94 2.06-2.06.94zm10 10l.94 2.06.94-2.06 2.06-.94-2.06-.94-.94-2.06-.94 2.06-2.06.94z\"/><path d=\"M17.41 7.96l-1.37-1.37c-.4-.4-.92-.59-1.43-.59-.52 0-1.04.2-1.43.59L10.3 9.45l-7.72 7.72c-.78.78-.78 2.05 0 2.83L4 21.41c.39.39.9.59 1.41.59.51 0 1.02-.2 1.41-.59l7.78-7.78 2.81-2.81c.8-.78.8-2.07 0-2.86zM5.41 20L4 18.59l7.72-7.72 1.47 1.35L5.41 20z\"/>\n",
              "  </svg>\n",
              "      </button>\n",
              "      \n",
              "  <style>\n",
              "    .colab-df-container {\n",
              "      display:flex;\n",
              "      flex-wrap:wrap;\n",
              "      gap: 12px;\n",
              "    }\n",
              "\n",
              "    .colab-df-convert {\n",
              "      background-color: #E8F0FE;\n",
              "      border: none;\n",
              "      border-radius: 50%;\n",
              "      cursor: pointer;\n",
              "      display: none;\n",
              "      fill: #1967D2;\n",
              "      height: 32px;\n",
              "      padding: 0 0 0 0;\n",
              "      width: 32px;\n",
              "    }\n",
              "\n",
              "    .colab-df-convert:hover {\n",
              "      background-color: #E2EBFA;\n",
              "      box-shadow: 0px 1px 2px rgba(60, 64, 67, 0.3), 0px 1px 3px 1px rgba(60, 64, 67, 0.15);\n",
              "      fill: #174EA6;\n",
              "    }\n",
              "\n",
              "    [theme=dark] .colab-df-convert {\n",
              "      background-color: #3B4455;\n",
              "      fill: #D2E3FC;\n",
              "    }\n",
              "\n",
              "    [theme=dark] .colab-df-convert:hover {\n",
              "      background-color: #434B5C;\n",
              "      box-shadow: 0px 1px 3px 1px rgba(0, 0, 0, 0.15);\n",
              "      filter: drop-shadow(0px 1px 2px rgba(0, 0, 0, 0.3));\n",
              "      fill: #FFFFFF;\n",
              "    }\n",
              "  </style>\n",
              "\n",
              "      <script>\n",
              "        const buttonEl =\n",
              "          document.querySelector('#df-e4393298-7136-45e8-a6ed-2cb70fb2e5b9 button.colab-df-convert');\n",
              "        buttonEl.style.display =\n",
              "          google.colab.kernel.accessAllowed ? 'block' : 'none';\n",
              "\n",
              "        async function convertToInteractive(key) {\n",
              "          const element = document.querySelector('#df-e4393298-7136-45e8-a6ed-2cb70fb2e5b9');\n",
              "          const dataTable =\n",
              "            await google.colab.kernel.invokeFunction('convertToInteractive',\n",
              "                                                     [key], {});\n",
              "          if (!dataTable) return;\n",
              "\n",
              "          const docLinkHtml = 'Like what you see? Visit the ' +\n",
              "            '<a target=\"_blank\" href=https://colab.research.google.com/notebooks/data_table.ipynb>data table notebook</a>'\n",
              "            + ' to learn more about interactive tables.';\n",
              "          element.innerHTML = '';\n",
              "          dataTable['output_type'] = 'display_data';\n",
              "          await google.colab.output.renderOutput(dataTable, element);\n",
              "          const docLink = document.createElement('div');\n",
              "          docLink.innerHTML = docLinkHtml;\n",
              "          element.appendChild(docLink);\n",
              "        }\n",
              "      </script>\n",
              "    </div>\n",
              "  </div>\n",
              "  "
            ],
            "text/plain": [
              "  Subject Gender   Age  Weight  Heigh  ...  LCA_L  LPA_L  MCA_L  MPA_L  TCI_L\n",
              "0   DM001      M  55.0    82.0   1.66  ...  31.53  32.39  31.81  32.39   6.03\n",
              "1   DM002      M  60.0    90.0   1.71  ...  26.39  25.93  26.75  26.45   0.38\n",
              "2   DM003      F  66.0     NaN    NaN  ...  26.96  26.96  27.90  27.38   1.30\n",
              "3   DM004      M  57.0     NaN    NaN  ...  29.78  30.96  31.04  30.72   4.62\n",
              "4   DM005      M  40.0     NaN    NaN  ...  24.40  25.72  24.88  25.57   0.87\n",
              "\n",
              "[5 rows x 18 columns]"
            ]
          },
          "metadata": {},
          "execution_count": 20
        }
      ]
    },
    {
      "cell_type": "code",
      "source": [
        "data_0=sio.loadmat(root+'DM_Data.mat')"
      ],
      "metadata": {
        "id": "Gd2LeaWDOZ9q"
      },
      "execution_count": null,
      "outputs": []
    },
    {
      "cell_type": "code",
      "source": [
        "temp=data_0['Temp']\n",
        "angi=data_0['Angiosoms']\n",
        "Subj=data_0['Subject']\n",
        "labe=data_0['Type'][0]\n",
        "Gend=data_0['Gender']\n",
        "Late=data_0['Laterality']\n",
        "sizx=np.shape(temp)\n",
        "maxi=np.max(temp)\n",
        "mini=np.min(temp[temp!=0])"
      ],
      "metadata": {
        "id": "TdFkk-mYOcbg"
      },
      "execution_count": null,
      "outputs": []
    },
    {
      "cell_type": "code",
      "source": [
        "normt=(temp-mini)/(maxi-mini)\n",
        "normt[normt<0]=0\n",
        "for i in range(np.shape(normt)[0]):\n",
        "  if Late[i]=='L':\n",
        "    normt[i]=np.flip(normt[i], axis=1)"
      ],
      "metadata": {
        "id": "T4_71mBfOe2u"
      },
      "execution_count": null,
      "outputs": []
    },
    {
      "cell_type": "code",
      "source": [
        "dia.random_plot(sizx, Subj, labe, Gend, Late, maxi, mini, temp, angi)"
      ],
      "metadata": {
        "colab": {
          "base_uri": "https://localhost:8080/",
          "height": 316
        },
        "id": "rKS83JnLOiq3",
        "outputId": "3d3031e5-9d35-4a07-dcb6-376f8df06b48"
      },
      "execution_count": null,
      "outputs": [
        {
          "output_type": "stream",
          "name": "stdout",
          "text": [
            "Índice : 294\n"
          ]
        },
        {
          "output_type": "display_data",
          "data": {
            "image/png": "[encoded data removed]",
            "text/plain": [
              "<Figure size 1008x504 with 4 Axes>"
            ]
          },
          "metadata": {}
        }
      ]
    },
    {
      "cell_type": "code",
      "source": [
        "from sklearn.decomposition import PCA\n",
        "from sklearn.decomposition import DictionaryLearning, FactorAnalysis, FastICA\n",
        "from sklearn.decomposition import IncrementalPCA\n",
        "from scipy import sparse\n",
        "from sklearn.decomposition import KernelPCA\n",
        "from sklearn.decomposition import LatentDirichletAllocation\n",
        "from sklearn.decomposition import NMF"
      ],
      "metadata": {
        "id": "VIligf_QQkob"
      },
      "execution_count": null,
      "outputs": []
    },
    {
      "cell_type": "code",
      "source": [
        "def noise(x,y,per=0.1):\n",
        "  if per<0.001:\n",
        "    rand2=np.ones((x,y))\n",
        "    return rand2\n",
        "  if per>1:\n",
        "    rand2=np.random.rand(x,y)\n",
        "    return rand2\n",
        "  per=1-per\n",
        "  rand=np.random.rand(x,y)\n",
        "  frac=(per)/(np.max(rand)-per)\n",
        "  rand2=rand+frac\n",
        "  rand2=rand2/np.max(rand2)\n",
        "  return rand2"
      ],
      "metadata": {
        "id": "te3cwnBNQjVZ"
      },
      "execution_count": null,
      "outputs": []
    },
    {
      "cell_type": "code",
      "source": [
        "def plot3(one, two, thr, four, name=''):\n",
        "  plt.figure(figsize=(14,7))\n",
        "  plt.subplot(1,4,1)\n",
        "  plt.imshow(one, cmap='nipy_spectral')\n",
        "  plt.title('Original')\n",
        "  plt.axis('off')\n",
        "  plt.subplot(1,4,2)\n",
        "  plt.imshow(two, cmap='nipy_spectral')\n",
        "  plt.title('Noise=0.1')\n",
        "  plt.axis('off')\n",
        "  plt.subplot(1,4,3)\n",
        "  plt.imshow(thr, cmap='nipy_spectral')\n",
        "  plt.title('Noise=0.5')\n",
        "  plt.axis('off')\n",
        "  plt.subplot(1,4,4)\n",
        "  plt.title('Noise=1.0')\n",
        "  plt.imshow(four, cmap='nipy_spectral')\n",
        "  plt.axis('off')\n",
        "  plt.savefig(name+'.svg')"
      ],
      "metadata": {
        "id": "zczPZ1j9Qhou"
      },
      "execution_count": null,
      "outputs": []
    },
    {
      "cell_type": "code",
      "source": [
        "def pca_images(data, percentage=1):\n",
        "  sz1=np.shape(data)\n",
        "  ncomp=sz1[0]\n",
        "  flat=np.array(data).reshape(sz1[0],sz1[1]*sz1[2])\n",
        "\n",
        "  pca = PCA(n_components=ncomp)\n",
        "  pca.fit(flat)  \n",
        "  space1=pca.transform(flat)  #Sujetos con número reducidos de caracterísicas\n",
        "  \n",
        "  x,y=np.shape(space1)  \n",
        "  rand=noise(x,y,percentage)\n",
        "\n",
        "  ima=space1*rand\n",
        "  ima=pca.inverse_transform(ima)\n",
        "  \n",
        "  ima=(ima-np.min(ima))/(np.max(ima)-np.min(ima)).astype('float32')\n",
        "  ima=ima.reshape(sz1[0],sz1[1],sz1[2])\n",
        "  ima=ima*(data!=0)\n",
        "  ref_max=np.max(np.max(data, axis=1), axis=1)/np.max(np.max(ima, axis=1), axis=1)\n",
        "  out=((ima.T*ref_max).T).astype('float32')\n",
        "  return out"
      ],
      "metadata": {
        "id": "Z-txbBEYQf-8"
      },
      "execution_count": null,
      "outputs": []
    },
    {
      "cell_type": "code",
      "source": [
        "def NonNegative_Matrix_Factorization(data, percentage=1):\n",
        "  sz1=np.shape(data)\n",
        "  ncomp=sz1[0]\n",
        "  flat=np.array(data).reshape(sz1[0],sz1[1]*sz1[2])\n",
        "\n",
        "  modelo=NMF(n_components=ncomp, random_state=0)  \n",
        "  space1= modelo.fit_transform(flat)  #Sujetos con número reducidos de caracterísicas\n",
        "  \n",
        "  x,y=np.shape(space1)  \n",
        "  rand=noise(x,y,percentage)\n",
        "\n",
        "  ima=space1*rand\n",
        "  ima=modelo.inverse_transform(ima)\n",
        "  \n",
        "  ima=(ima-np.min(ima))/(np.max(ima)-np.min(ima)).astype('float32')\n",
        "  ima=ima.reshape(sz1[0],sz1[1],sz1[2])\n",
        "  ima=ima*(data!=0)\n",
        "  ref_max=np.max(np.max(data, axis=1), axis=1)/np.max(np.max(ima, axis=1), axis=1)\n",
        "  out=((ima.T*ref_max).T).astype('float32')\n",
        "  return out"
      ],
      "metadata": {
        "id": "KKOc6frSQeXa"
      },
      "execution_count": null,
      "outputs": []
    },
    {
      "cell_type": "code",
      "source": [
        "def Kernel_PCA(data, percentage=1):\n",
        "  sz1=np.shape(data)\n",
        "  ncomp=sz1[0]\n",
        "  flat=np.array(data).reshape(sz1[0],sz1[1]*sz1[2])\n",
        "\n",
        "  kern = KernelPCA(n_components=ncomp, kernel='linear', fit_inverse_transform=True) \n",
        "  space1=kern.fit_transform(flat)  #Sujetos con número reducidos de caracterísicas\n",
        "  \n",
        "  x,y=np.shape(space1)  \n",
        "  rand=noise(x,y,percentage)\n",
        "\n",
        "  ima=space1*rand\n",
        "  ima=kern.inverse_transform(ima)\n",
        "  \n",
        "  ima=(ima-np.min(ima))/(np.max(ima)-np.min(ima)).astype('float32')\n",
        "  ima=ima.reshape(sz1[0],sz1[1],sz1[2])\n",
        "  ima=ima*(data!=0)\n",
        "  ref_max=np.max(np.max(data, axis=1), axis=1)/np.max(np.max(ima, axis=1), axis=1)\n",
        "  out=((ima.T*ref_max).T).astype('float32')\n",
        "  return out"
      ],
      "metadata": {
        "id": "XPYu-R0zQcq5"
      },
      "execution_count": null,
      "outputs": []
    },
    {
      "cell_type": "code",
      "source": [
        "def Incremental_PCA(data, percentage=0.1):\n",
        "  sz1=np.shape(data)\n",
        "  ncomp=sz1[0]\n",
        "  flat=np.array(data).reshape(sz1[0],sz1[1]*sz1[2])\n",
        "\n",
        "  InPCA = IncrementalPCA(n_components=ncomp, batch_size=200)\n",
        "  X_sparse = sparse.csr_matrix(flat)  \n",
        "  space1 = InPCA.fit_transform(X_sparse)  #Sujetos con número reducidos de caracterísicas\n",
        "  \n",
        "  x,y=np.shape(space1)  \n",
        "  rand=noise(x,y,percentage)\n",
        "\n",
        "  ima=space1*rand\n",
        "  ima=InPCA.inverse_transform(ima)\n",
        "  \n",
        "  ima=(ima-np.min(ima))/(np.max(ima)-np.min(ima)).astype('float32')\n",
        "  ima=ima.reshape(sz1[0],sz1[1],sz1[2])\n",
        "  ima=ima*(data!=0)\n",
        "  ref_max=np.max(np.max(data, axis=1), axis=1)/np.max(np.max(ima, axis=1), axis=1)\n",
        "  out=((ima.T*ref_max).T).astype('float32')\n",
        "  return out"
      ],
      "metadata": {
        "id": "NJ8T-St8QbKU"
      },
      "execution_count": null,
      "outputs": []
    },
    {
      "cell_type": "code",
      "source": [
        "def factor_analysis(data, percentage=0.1):\n",
        "  sz1=np.shape(data)\n",
        "  ncomp=sz1[0]\n",
        "  flat=np.array(data).reshape(sz1[0],sz1[1]*sz1[2])\n",
        "\n",
        "\n",
        "  FA = FactorAnalysis(n_components=ncomp, random_state=0)\n",
        "  space1=FA.fit_transform(flat)  #Sujetos con número reducidos de caracterísicas\n",
        "  \n",
        "  x,y=np.shape(space1)  \n",
        "  rand=noise(x,y,percentage)\n",
        "\n",
        "  ima=space1*rand\n",
        "  ima=ima@FA.components_\n",
        "  \n",
        "  ima=(ima-np.min(ima))/(np.max(ima)-np.min(ima)).astype('float32')\n",
        "  ima=ima.reshape(sz1[0],sz1[1],sz1[2])\n",
        "  ima=ima*(data!=0)\n",
        "  ref_max=np.max(np.max(data, axis=1), axis=1)/np.max(np.max(ima, axis=1), axis=1)\n",
        "  out=((ima.T*ref_max).T).astype('float32')\n",
        "  return out"
      ],
      "metadata": {
        "id": "VNWIbpJyQZQZ"
      },
      "execution_count": null,
      "outputs": []
    },
    {
      "cell_type": "code",
      "source": [
        "def Independent_component_Analysis(data, percentage=0.1):\n",
        "  sz1=np.shape(data)\n",
        "  ncomp=sz1[0]\n",
        "  flat=np.array(data).reshape(sz1[0],sz1[1]*sz1[2])\n",
        "\n",
        "  ICA = FastICA(n_components=20, random_state=0)\n",
        "  space1 = ICA.fit_transform(flat)\n",
        "    \n",
        "  x,y=np.shape(space1)  \n",
        "  rand=noise(x,y,percentage)\n",
        "\n",
        "  ima=space1*rand\n",
        "  ima=ima@ICA.components_\n",
        "  \n",
        "  ima=(ima-np.min(ima))/(np.max(ima)-np.min(ima)).astype('float32')\n",
        "  ima=ima.reshape(sz1[0],sz1[1],sz1[2])\n",
        "  ima=ima*(data!=0)\n",
        "  ref_max=np.max(np.max(data, axis=1), axis=1)/np.max(np.max(ima, axis=1), axis=1)\n",
        "  out=((ima.T*ref_max).T).astype('float32')\n",
        "  return out"
      ],
      "metadata": {
        "id": "fwEVFra7QXu6"
      },
      "execution_count": null,
      "outputs": []
    },
    {
      "cell_type": "code",
      "source": [
        "def Dictionary_Learning(data, percentage=0.1):\n",
        "  sz1=np.shape(data)\n",
        "  ncomp=sz1[0]\n",
        "  flat=np.array(data).reshape(sz1[0],sz1[1]*sz1[2])\n",
        "\n",
        "  dict_learner = DictionaryLearning(n_components=ncomp, transform_algorithm='lasso_lars', random_state=42)\n",
        "  space1 = dict_learner.fit_transform(flat)\n",
        "    \n",
        "  x,y=np.shape(space1)  \n",
        "  rand=noise(x,y,percentage)\n",
        "\n",
        "  ima=space1*rand\n",
        "  ima=ima@dict_learner.components_\n",
        "  \n",
        "  ima=(ima-np.min(ima))/(np.max(ima)-np.min(ima)).astype('float32')\n",
        "  ima=ima.reshape(sz1[0],sz1[1],sz1[2])\n",
        "  ima=ima*(data!=0)\n",
        "  ref_max=np.max(np.max(data, axis=1), axis=1)/np.max(np.max(ima, axis=1), axis=1)\n",
        "  out=((ima.T*ref_max).T).astype('float32')\n",
        "  return out"
      ],
      "metadata": {
        "id": "R8c0VJUCQWW5"
      },
      "execution_count": null,
      "outputs": []
    },
    {
      "cell_type": "code",
      "source": [
        "def Latent_Dirichlet_Allocation(data, percentage=0.1):\n",
        "  sz1=np.shape(data)\n",
        "  ncomp=sz1[0]\n",
        "  flat=np.array(data).reshape(sz1[0],sz1[1]*sz1[2])\n",
        "\n",
        "  lda = LatentDirichletAllocation(n_components=ncomp, random_state=0)\n",
        "  X_transformed = lda.fit(flat)\n",
        "  space1=X_transformed.transform(flat)\n",
        "\n",
        "  x,y=np.shape(space1)    \n",
        "  rand=noise(x,y,percentage)\n",
        "\n",
        "  ima=space1*rand\n",
        "  ima=ima@X_transformed.components_\n",
        "  \n",
        "  ima=(ima-np.min(ima))/(np.max(ima)-np.min(ima)).astype('float32')\n",
        "  ima=ima.reshape(sz1[0],sz1[1],sz1[2])\n",
        "  ima=ima*(data!=0)\n",
        "  ref_max=np.max(np.max(data, axis=1), axis=1)/np.max(np.max(ima, axis=1), axis=1)\n",
        "  out=((ima.T*ref_max).T).astype('float32')\n",
        "  return out"
      ],
      "metadata": {
        "id": "nF-OudzlQTEC"
      },
      "execution_count": null,
      "outputs": []
    },
    {
      "cell_type": "code",
      "source": [
        "def without_aug(data, percentage=0):\n",
        "  return data"
      ],
      "metadata": {
        "id": "ZNn_2QgSQ4Nn"
      },
      "execution_count": null,
      "outputs": []
    },
    {
      "cell_type": "code",
      "source": [
        "def flip_v(data, value):\n",
        "  out=tf.image.flip_up_down(data.reshape(*np.shape(data),1))\n",
        "  out=out[...,0]\n",
        "  return out"
      ],
      "metadata": {
        "id": "SiHYmxaOQR00"
      },
      "execution_count": null,
      "outputs": []
    },
    {
      "cell_type": "code",
      "source": [
        "def flip_h(data, value):\n",
        "  out=tf.image.flip_left_right(data.reshape(*np.shape(data),1))\n",
        "  out=out[...,0]\n",
        "  return out"
      ],
      "metadata": {
        "id": "gjShbg1DQQsQ"
      },
      "execution_count": null,
      "outputs": []
    },
    {
      "cell_type": "code",
      "source": [
        "def color_space(data, value):\n",
        "  data=data.reshape((*np.shape(data),1))\n",
        "  data=tf.image.grayscale_to_rgb(tf.convert_to_tensor(data))\n",
        "  space1=tfio.experimental.color.rgb_to_ycbcr(np.array(data*255/np.max(data)).astype('uint8'))\n",
        "  space1=tfio.experimental.color.rgb_to_hsv((np.array(space1)/np.max(space1)).astype('float32'))\n",
        "  out=np.concatenate((data, space1))  \n",
        "  return out"
      ],
      "metadata": {
        "id": "jmfvMbWlQPOr"
      },
      "execution_count": null,
      "outputs": []
    },
    {
      "cell_type": "code",
      "source": [
        "def gaussian_filter(data, value):\n",
        "  out=tfa.image.gaussian_filter2d(data.reshape(*np.shape(data),1), (3,3), sigma=90)\n",
        "  out=out/np.max(out)\n",
        "  out=out[...,0]\n",
        "  return out"
      ],
      "metadata": {
        "id": "slKFpzcBQNCI"
      },
      "execution_count": null,
      "outputs": []
    },
    {
      "cell_type": "code",
      "source": [
        "methods={'PCA': pca_images,\n",
        "         'DL': Dictionary_Learning,\n",
        "         'FA': factor_analysis,\n",
        "         'ICA':Independent_component_Analysis,\n",
        "         'InPCA': Incremental_PCA,\n",
        "         'kPCA': Kernel_PCA,\n",
        "         'LDA': Latent_Dirichlet_Allocation,\n",
        "         'NNMF':NonNegative_Matrix_Factorization,\n",
        "         'Color': color_space,\n",
        "         'Gaussian': gaussian_filter,\n",
        "         'Horizontal_f':flip_h,\n",
        "         'Vertical_f':flip_v,\n",
        "         'None': without_aug}"
      ],
      "metadata": {
        "id": "T01gMjj2QMf5"
      },
      "execution_count": null,
      "outputs": []
    },
    {
      "cell_type": "code",
      "source": [
        "def draw_augmentation(data, method='PCA', subjects='CG', noise_p=1):\n",
        "  if subjects=='CG':\n",
        "    datf=data[:90]\n",
        "    ind=np.random.choice(90)\n",
        "  else:\n",
        "    datf=data[90:]\n",
        "    ind=90+np.random.choice(122)\n",
        "  plt.subplot(1,2,1)\n",
        "  plt.imshow(data[ind], cmap='nipy_spectral', vmin=0, vmax=1)\n",
        "  plt.title(subjects+' ID: '+str(ind))\n",
        "  plt.grid()\n",
        "  plt.colorbar()\n",
        "  plt.subplot(1,2,2)\n",
        "  aum=methods[method](datf, noise_p)\n",
        "  plt.imshow(aum[ind], cmap='nipy_spectral', vmin=0, vmax=1)\n",
        "  plt.title(method)\n",
        "  plt.grid()\n",
        "  plt.colorbar()\n",
        "  return aum"
      ],
      "metadata": {
        "id": "qComCXxLQKA-"
      },
      "execution_count": null,
      "outputs": []
    },
    {
      "cell_type": "code",
      "source": [
        "def get_index(data, run, k_fold=5):\n",
        "  tm=np.shape(data)[0]\n",
        "  anch=int(tm/k_fold)\n",
        "  fold=run%k_fold\n",
        "  np.random.seed(2000)\n",
        "  ind=np.random.choice(tm,tm, replace=False)\n",
        "  i_test=ind[fold*anch:(fold+1)*anch]\n",
        "  i_train=np.delete(ind, np.arange(fold*anch,(fold+1)*anch))\n",
        "  return i_train, i_test"
      ],
      "metadata": {
        "id": "5OJjhKzbQIIo"
      },
      "execution_count": null,
      "outputs": []
    },
    {
      "cell_type": "code",
      "source": [
        "dfx = pd.DataFrame(columns=('run_n', 'k_fold', 'network', 'optimizer', 'loss', 'epochs', 'total_parameters', 'time', 'time_aug', 'transfer', 'augm', 'Class', 'TP', 'TN', 'FP', 'FN','result_mat'))\n",
        "dfx.head()"
      ],
      "metadata": {
        "colab": {
          "base_uri": "https://localhost:8080/",
          "height": 50
        },
        "id": "BpeR3UA7PuHK",
        "outputId": "99a7aea7-56ae-4779-a223-f5e4a450aced"
      },
      "execution_count": null,
      "outputs": [
        {
          "output_type": "execute_result",
          "data": {
            "text/html": [
              "\n",
              "  <div id=\"df-c53fc8d4-ee2d-415a-8d2f-a8d91197f3f4\">\n",
              "    <div class=\"colab-df-container\">\n",
              "      <div>\n",
              "<style scoped>\n",
              "    .dataframe tbody tr th:only-of-type {\n",
              "        vertical-align: middle;\n",
              "    }\n",
              "\n",
              "    .dataframe tbody tr th {\n",
              "        vertical-align: top;\n",
              "    }\n",
              "\n",
              "    .dataframe thead th {\n",
              "        text-align: right;\n",
              "    }\n",
              "</style>\n",
              "<table border=\"1\" class=\"dataframe\">\n",
              "  <thead>\n",
              "    <tr style=\"text-align: right;\">\n",
              "      <th></th>\n",
              "      <th>run_n</th>\n",
              "      <th>k_fold</th>\n",
              "      <th>network</th>\n",
              "      <th>optimizer</th>\n",
              "      <th>loss</th>\n",
              "      <th>epochs</th>\n",
              "      <th>total_parameters</th>\n",
              "      <th>time</th>\n",
              "      <th>time_aug</th>\n",
              "      <th>transfer</th>\n",
              "      <th>augm</th>\n",
              "      <th>Class</th>\n",
              "      <th>TP</th>\n",
              "      <th>TN</th>\n",
              "      <th>FP</th>\n",
              "      <th>FN</th>\n",
              "      <th>result_mat</th>\n",
              "    </tr>\n",
              "  </thead>\n",
              "  <tbody>\n",
              "  </tbody>\n",
              "</table>\n",
              "</div>\n",
              "      <button class=\"colab-df-convert\" onclick=\"convertToInteractive('df-c53fc8d4-ee2d-415a-8d2f-a8d91197f3f4')\"\n",
              "              title=\"Convert this dataframe to an interactive table.\"\n",
              "              style=\"display:none;\">\n",
              "        \n",
              "  <svg xmlns=\"http://www.w3.org/2000/svg\" height=\"24px\"viewBox=\"0 0 24 24\"\n",
              "       width=\"24px\">\n",
              "    <path d=\"M0 0h24v24H0V0z\" fill=\"none\"/>\n",
              "    <path d=\"M18.56 5.44l.94 2.06.94-2.06 2.06-.94-2.06-.94-.94-2.06-.94 2.06-2.06.94zm-11 1L8.5 8.5l.94-2.06 2.06-.94-2.06-.94L8.5 2.5l-.94 2.06-2.06.94zm10 10l.94 2.06.94-2.06 2.06-.94-2.06-.94-.94-2.06-.94 2.06-2.06.94z\"/><path d=\"M17.41 7.96l-1.37-1.37c-.4-.4-.92-.59-1.43-.59-.52 0-1.04.2-1.43.59L10.3 9.45l-7.72 7.72c-.78.78-.78 2.05 0 2.83L4 21.41c.39.39.9.59 1.41.59.51 0 1.02-.2 1.41-.59l7.78-7.78 2.81-2.81c.8-.78.8-2.07 0-2.86zM5.41 20L4 18.59l7.72-7.72 1.47 1.35L5.41 20z\"/>\n",
              "  </svg>\n",
              "      </button>\n",
              "      \n",
              "  <style>\n",
              "    .colab-df-container {\n",
              "      display:flex;\n",
              "      flex-wrap:wrap;\n",
              "      gap: 12px;\n",
              "    }\n",
              "\n",
              "    .colab-df-convert {\n",
              "      background-color: #E8F0FE;\n",
              "      border: none;\n",
              "      border-radius: 50%;\n",
              "      cursor: pointer;\n",
              "      display: none;\n",
              "      fill: #1967D2;\n",
              "      height: 32px;\n",
              "      padding: 0 0 0 0;\n",
              "      width: 32px;\n",
              "    }\n",
              "\n",
              "    .colab-df-convert:hover {\n",
              "      background-color: #E2EBFA;\n",
              "      box-shadow: 0px 1px 2px rgba(60, 64, 67, 0.3), 0px 1px 3px 1px rgba(60, 64, 67, 0.15);\n",
              "      fill: #174EA6;\n",
              "    }\n",
              "\n",
              "    [theme=dark] .colab-df-convert {\n",
              "      background-color: #3B4455;\n",
              "      fill: #D2E3FC;\n",
              "    }\n",
              "\n",
              "    [theme=dark] .colab-df-convert:hover {\n",
              "      background-color: #434B5C;\n",
              "      box-shadow: 0px 1px 3px 1px rgba(0, 0, 0, 0.15);\n",
              "      filter: drop-shadow(0px 1px 2px rgba(0, 0, 0, 0.3));\n",
              "      fill: #FFFFFF;\n",
              "    }\n",
              "  </style>\n",
              "\n",
              "      <script>\n",
              "        const buttonEl =\n",
              "          document.querySelector('#df-c53fc8d4-ee2d-415a-8d2f-a8d91197f3f4 button.colab-df-convert');\n",
              "        buttonEl.style.display =\n",
              "          google.colab.kernel.accessAllowed ? 'block' : 'none';\n",
              "\n",
              "        async function convertToInteractive(key) {\n",
              "          const element = document.querySelector('#df-c53fc8d4-ee2d-415a-8d2f-a8d91197f3f4');\n",
              "          const dataTable =\n",
              "            await google.colab.kernel.invokeFunction('convertToInteractive',\n",
              "                                                     [key], {});\n",
              "          if (!dataTable) return;\n",
              "\n",
              "          const docLinkHtml = 'Like what you see? Visit the ' +\n",
              "            '<a target=\"_blank\" href=https://colab.research.google.com/notebooks/data_table.ipynb>data table notebook</a>'\n",
              "            + ' to learn more about interactive tables.';\n",
              "          element.innerHTML = '';\n",
              "          dataTable['output_type'] = 'display_data';\n",
              "          await google.colab.output.renderOutput(dataTable, element);\n",
              "          const docLink = document.createElement('div');\n",
              "          docLink.innerHTML = docLinkHtml;\n",
              "          element.appendChild(docLink);\n",
              "        }\n",
              "      </script>\n",
              "    </div>\n",
              "  </div>\n",
              "  "
            ],
            "text/plain": [
              "Empty DataFrame\n",
              "Columns: [run_n, k_fold, network, optimizer, loss, epochs, total_parameters, time, time_aug, transfer, augm, Class, TP, TN, FP, FN, result_mat]\n",
              "Index: []"
            ]
          },
          "metadata": {},
          "execution_count": 44
        }
      ]
    },
    {
      "cell_type": "code",
      "source": [
        "import tensorflow.compat.v1.keras.backend as K\n",
        "import os\n",
        "import math\n",
        "from tensorflow.keras.callbacks import ModelCheckpoint, EarlyStopping\n",
        "import tensorflow as tf\n",
        "import time\n",
        "from IPython.display import clear_output"
      ],
      "metadata": {
        "id": "NvQXXZqTPsdc"
      },
      "execution_count": null,
      "outputs": []
    },
    {
      "cell_type": "code",
      "source": [
        "TPx=tf.keras.metrics.TruePositives()\n",
        "TNx=tf.keras.metrics.TrueNegatives()\n",
        "FPx=tf.keras.metrics.FalsePositives()\n",
        "FNx=tf.keras.metrics.FalseNegatives()"
      ],
      "metadata": {
        "id": "spw9rBrqPkmK"
      },
      "execution_count": null,
      "outputs": []
    },
    {
      "cell_type": "code",
      "source": [
        "def one_hot(vec):\n",
        "  items=np.sort(pd.unique(vec))\n",
        "  n_class=np.shape(items)[0]\n",
        "  resul=np.zeros((vec.size, n_class))\n",
        "  for n,i in enumerate(items):\n",
        "    rows=np.where(vec==i)[0]\n",
        "    resul[rows,n]=1\n",
        "  return resul.astype('float32')"
      ],
      "metadata": {
        "id": "bZp1wpfdPiRp"
      },
      "execution_count": null,
      "outputs": []
    },
    {
      "cell_type": "code",
      "source": [
        "def rgb(data):\n",
        "  data=data.reshape((*np.shape(data),1))\n",
        "  data=tf.image.grayscale_to_rgb(tf.convert_to_tensor(data))\n",
        "  return np.array(data)"
      ],
      "metadata": {
        "id": "ze4K58P6Pg55"
      },
      "execution_count": null,
      "outputs": []
    },
    {
      "cell_type": "code",
      "source": [
        "def data_augmentation_function(data, labels, method):\n",
        "  tik = time.time() \n",
        "  if method=='Color':                 \n",
        "    out=methods[method](data,0.5)\n",
        "    lab=np.concatenate((labels, labels))\n",
        "\n",
        "    sx=np.shape(out)[0]\n",
        "    idx=np.random.choice(sx,sx,replace=False)\n",
        "    out=out[idx]\n",
        "    lab=lab[idx]\n",
        "\n",
        "    tok=time.time()-tik\n",
        "    return out, one_hot(lab), tok  \n",
        "  else:            \n",
        "    new=methods[method](data,0.5)\n",
        "    out=np.concatenate((data, new))\n",
        "    lab=np.concatenate((labels, labels))\n",
        "\n",
        "    sx=np.shape(out)[0]\n",
        "    idx=np.random.choice(sx,sx,replace=False)\n",
        "    out=out[idx]\n",
        "    lab=lab[idx]\n",
        "\n",
        "    tok=time.time()-tik\n",
        "    return rgb(out), one_hot(lab), tok"
      ],
      "metadata": {
        "id": "GlPs-nFgPfPQ"
      },
      "execution_count": null,
      "outputs": []
    },
    {
      "cell_type": "code",
      "source": [
        "def run_experiment(images, labels, number_class, data_augmentation, name='x', star_fold=0, star_run=0, end_run=6, batch_size=16):\n",
        "  for augm_con in data_augmentation:\n",
        "    for net in Networks:\n",
        "      name_0='_'.join(['Thermo', name, str(transferlearning), augm_con, net, optimizer])\n",
        "      if not os.path.exists(path2+name_0+'.csv'):\n",
        "        dfx.to_csv(path2+name_0+'.csv')\n",
        "\n",
        "      for n_fold in range(star_fold,5):\n",
        "        train_id, test_id=get_index(labels, n_fold)\n",
        "\n",
        "        x_test, y_test= rgb(images[test_id]), one_hot(labels[test_id])\n",
        "\n",
        "        x_train,y_train=images[train_id], labels[train_id]\n",
        "        x_aug, y_aug, tau=data_augmentation_function(x_train, y_train, augm_con)\n",
        "\n",
        "        for i in range(star_run, end_run): #Numero corridas \n",
        "          for j in [loss]: #Funciones de perdida\n",
        "            cntn=True\n",
        "            name_m='_'.join([name_0,j,'run',str(i),'fold',str(n_fold)])  \n",
        "            print(name_m)\n",
        "\n",
        "            #Obtener imagenes nuevamente\n",
        "            model=transfer_model(wig)\n",
        "\n",
        "            try:\n",
        "              tic = time.time()\n",
        "              results = model.fit(x_aug, y_aug, batch_size=batch_size, epochs=epochs)\n",
        "              toc=time.time()-tic\n",
        "              model.save_weights(pathW+name_m+\"w.h5\")\n",
        "            except:\n",
        "              print('Training error')\n",
        "              cntn=False\n",
        "\n",
        "            if cntn:\n",
        "              sio.savemat(pathW+name_m+'_r.mat', results.history)\n",
        "\n",
        "              #Validation\n",
        "              y_hat=np.array(model.predict(x_test))\n",
        "              sio.savemat(pathW+name_m+'_los_8.mat',{'y_hat': y_hat, 'y_test': np.array(y_test)})\n",
        "              #y_hat=y_hat>=0.5\n",
        "\n",
        "              for class_i in range(number_class):\n",
        "                TPx.reset_state()\n",
        "                TNx.reset_state()\n",
        "                FPx.reset_state()\n",
        "                FNx.reset_state()        \n",
        "\n",
        "                TPx.update_state(y_test[:,class_i], y_hat[:,class_i])\n",
        "                TNx.update_state(y_test[:,class_i], y_hat[:,class_i])\n",
        "                FPx.update_state(y_test[:,class_i], y_hat[:,class_i])\n",
        "                FNx.update_state(y_test[:,class_i], y_hat[:,class_i])\n",
        "                total_p=model.count_params()\n",
        "\n",
        "                #data frame\n",
        "                df2=pd.read_csv(path2+name_0+'.csv')\n",
        "                df2=df2.append({'run_n': i,\n",
        "                                'k_fold': n_fold,\n",
        "                                'network': net,\n",
        "                                'optimizer': optimizer,\n",
        "                                'loss': 'categorical_crossentropy',\n",
        "                                'epochs': epochs,\n",
        "                                'total_parameters': total_p,\n",
        "                                'time': toc,\n",
        "                                'time_aug': tau,\n",
        "                                'transfer': transferlearning,\n",
        "                                'augm': augm_con,\n",
        "                                'Class': class_i,\n",
        "                                'TP': float(TPx.result()),\n",
        "                                'TN': float(TNx.result()),\n",
        "                                'FP': float(FPx.result()),\n",
        "                                'FN': float(FNx.result()),\n",
        "                                'result_mat': name_m+'_r.mat'} , ignore_index=True)\n",
        "                df2=df2.drop(df2.columns[:np.where(df2.columns=='run_n')[0][0]], axis=1)\n",
        "                df2.to_csv(path2+name_0+'.csv')\n",
        "              del model #x_train, y_train,\n",
        "              clear_output(wait=True)\n",
        "        star_run=0\n",
        "      star_fold=0"
      ],
      "metadata": {
        "id": "3P3wRe-GPSJx"
      },
      "execution_count": null,
      "outputs": []
    },
    {
      "cell_type": "code",
      "source": [
        "root2='/content/drive/MyDrive/AumentoThermo'\n",
        "\n",
        "Networks=['ResNet50V2']#, 'InceptionV3', 'DenseNet121', 'Xception', 'VGG19', 'InceptionResNetV2', 'EfficientNetB7']\n",
        "path2=root2+'/Results/Augmento/termotransfer/results_csv/'\n",
        "pathW=root2+'/Results/Augmento/termotransfer/Weights/'\n",
        "\n",
        "augmentation=['Color', 'Gaussian', 'Horizontal_f', 'Vertical_f', 'None']\n",
        "transferlearning='imagenet'\n",
        "optimizer='adadelta'\n",
        "epochs=50\n",
        "loss='categorical_crossentropy'\n",
        "\n",
        "#----------------------------------RUN------------------------------------------\n",
        "run_experiment(normt, labe, 2, augmentation, star_fold=3, star_run=0)"
      ],
      "metadata": {
        "colab": {
          "base_uri": "https://localhost:8080/"
        },
        "id": "4mxkxicPO50W",
        "outputId": "d3fde2d6-4405-42a9-f317-e42a7696744c"
      },
      "execution_count": null,
      "outputs": [
        {
          "output_type": "stream",
          "name": "stdout",
          "text": [
            "Thermo_x_imagenet_None_ResNet50V2_adadelta_categorical_crossentropy_run_5_fold_4\n",
            "done\n",
            "Accuracy\t: 0.9952203136669157\n",
            "done\n",
            "tf.Tensor(\n",
            "[ True  True  True  True  True  True  True  True  True  True  True  True\n",
            "  True  True  True  True  True  True  True  True  True  True  True  True\n",
            "  True  True  True  True  True  True  True  True  True  True  True  True\n",
            "  True  True  True  True  True  True  True  True  True  True  True  True\n",
            "  True  True  True  True  True  True  True  True  True  True  True  True\n",
            "  True  True  True  True  True  True  True  True  True  True  True  True\n",
            "  True  True  True  True  True  True  True  True  True  True  True  True\n",
            "  True  True  True  True  True  True  True  True  True  True  True  True\n",
            "  True  True  True  True  True  True  True  True  True  True  True  True\n",
            "  True  True  True  True  True  True  True  True  True  True  True  True\n",
            "  True  True  True  True  True  True  True  True  True  True  True  True\n",
            "  True  True  True  True  True  True  True  True  True  True  True  True\n",
            "  True  True  True  True  True  True  True  True  True  True  True  True\n",
            "  True  True  True  True  True  True  True  True  True  True  True  True\n",
            "  True  True  True  True  True  True  True  True  True  True  True  True\n",
            "  True  True  True  True  True  True  True  True  True  True  True  True\n",
            "  True  True  True  True  True  True  True  True  True  True  True  True\n",
            "  True  True  True  True  True  True  True  True  True  True  True  True\n",
            "  True  True  True  True  True  True  True  True  True  True  True  True\n",
            "  True  True  True  True  True  True  True  True  True  True  True  True\n",
            "  True  True  True  True  True  True  True  True  True  True  True  True\n",
            "  True  True  True  True  True  True  True  True  True  True  True  True\n",
            "  True  True  True  True  True  True  True  True  True  True  True  True\n",
            "  True  True  True  True  True  True  True  True  True  True  True  True\n",
            "  True  True  True  True  True  True  True  True  True  True  True  True\n",
            "  True  True  True  True  True  True  True  True  True  True  True  True\n",
            "  True  True  True  True  True  True  True  True  True  True  True  True\n",
            "  True  True  True  True  True  True  True  True  True  True  True  True\n",
            "  True  True  True  True  True  True  True  True  True  True  True  True\n",
            "  True  True  True  True  True  True  True  True  True  True  True  True\n",
            "  True  True  True  True  True  True  True  True  True  True  True  True\n",
            "  True  True  True  True  True  True  True  True  True  True  True  True\n",
            "  True  True  True  True  True  True  True  True  True  True  True  True\n",
            "  True  True  True  True  True  True  True  True  True  True  True  True\n",
            "  True  True  True  True  True  True  True  True  True  True  True  True\n",
            "  True  True  True  True  True  True  True  True  True  True  True  True\n",
            "  True  True  True  True  True  True  True  True  True  True  True  True\n",
            "  True  True  True  True  True  True  True  True  True  True  True  True\n",
            "  True  True  True  True  True  True  True  True  True  True  True  True\n",
            "  True  True  True  True  True  True  True  True  True  True  True  True\n",
            "  True  True  True  True  True  True  True  True  True  True  True  True\n",
            "  True  True  True  True  True  True  True  True  True  True  True  True\n",
            "  True  True  True  True  True  True  True  True], shape=(512,), dtype=bool)\n",
            "Epoch 1/50\n",
            "34/34 [==============================] - 8s 58ms/step - loss: 0.6440 - acc: 0.6194 - recall_265: 0.6194 - false_positives_266: 204.0000\n",
            "Epoch 2/50\n",
            "34/34 [==============================] - 2s 58ms/step - loss: 0.5327 - acc: 0.7649 - recall_265: 0.7649 - false_positives_266: 126.0000\n",
            "Epoch 3/50\n",
            "34/34 [==============================] - 2s 57ms/step - loss: 0.4657 - acc: 0.8358 - recall_265: 0.8358 - false_positives_266: 88.0000\n",
            "Epoch 4/50\n",
            "34/34 [==============================] - 2s 57ms/step - loss: 0.3914 - acc: 0.8955 - recall_265: 0.8955 - false_positives_266: 56.0000\n",
            "Epoch 5/50\n",
            "34/34 [==============================] - 2s 57ms/step - loss: 0.3742 - acc: 0.8825 - recall_265: 0.8825 - false_positives_266: 63.0000\n",
            "Epoch 6/50\n",
            "34/34 [==============================] - 2s 57ms/step - loss: 0.3322 - acc: 0.9179 - recall_265: 0.9179 - false_positives_266: 44.0000\n",
            "Epoch 7/50\n",
            "34/34 [==============================] - 2s 57ms/step - loss: 0.2911 - acc: 0.9235 - recall_265: 0.9235 - false_positives_266: 41.0000\n",
            "Epoch 8/50\n",
            "34/34 [==============================] - 2s 57ms/step - loss: 0.2511 - acc: 0.9608 - recall_265: 0.9608 - false_positives_266: 21.0000\n",
            "Epoch 9/50\n",
            "34/34 [==============================] - 2s 57ms/step - loss: 0.2289 - acc: 0.9683 - recall_265: 0.9683 - false_positives_266: 17.0000\n",
            "Epoch 10/50\n",
            "34/34 [==============================] - 2s 57ms/step - loss: 0.2139 - acc: 0.9683 - recall_265: 0.9683 - false_positives_266: 17.0000\n",
            "Epoch 11/50\n",
            "34/34 [==============================] - 2s 58ms/step - loss: 0.2064 - acc: 0.9664 - recall_265: 0.9664 - false_positives_266: 18.0000\n",
            "Epoch 12/50\n",
            "34/34 [==============================] - 2s 57ms/step - loss: 0.1861 - acc: 0.9776 - recall_265: 0.9776 - false_positives_266: 12.0000\n",
            "Epoch 13/50\n",
            "34/34 [==============================] - 2s 57ms/step - loss: 0.1606 - acc: 0.9813 - recall_265: 0.9813 - false_positives_266: 10.0000\n",
            "Epoch 14/50\n",
            "34/34 [==============================] - 2s 57ms/step - loss: 0.1439 - acc: 0.9869 - recall_265: 0.9869 - false_positives_266: 7.0000\n",
            "Epoch 15/50\n",
            "34/34 [==============================] - 2s 57ms/step - loss: 0.1388 - acc: 0.9888 - recall_265: 0.9888 - false_positives_266: 6.0000\n",
            "Epoch 16/50\n",
            "34/34 [==============================] - 2s 57ms/step - loss: 0.1339 - acc: 0.9851 - recall_265: 0.9851 - false_positives_266: 8.0000\n",
            "Epoch 17/50\n",
            "34/34 [==============================] - 2s 58ms/step - loss: 0.1173 - acc: 1.0000 - recall_265: 1.0000 - false_positives_266: 0.0000e+00\n",
            "Epoch 18/50\n",
            "34/34 [==============================] - 2s 57ms/step - loss: 0.0969 - acc: 0.9981 - recall_265: 0.9981 - false_positives_266: 1.0000\n",
            "Epoch 19/50\n",
            "34/34 [==============================] - 2s 57ms/step - loss: 0.1086 - acc: 0.9832 - recall_265: 0.9832 - false_positives_266: 9.0000\n",
            "Epoch 20/50\n",
            "34/34 [==============================] - 2s 57ms/step - loss: 0.0872 - acc: 0.9981 - recall_265: 0.9981 - false_positives_266: 1.0000\n",
            "Epoch 21/50\n",
            "34/34 [==============================] - 2s 58ms/step - loss: 0.0788 - acc: 0.9963 - recall_265: 0.9963 - false_positives_266: 2.0000\n",
            "Epoch 22/50\n",
            "34/34 [==============================] - 2s 57ms/step - loss: 0.0762 - acc: 0.9944 - recall_265: 0.9944 - false_positives_266: 3.0000\n",
            "Epoch 23/50\n",
            "34/34 [==============================] - 2s 58ms/step - loss: 0.0701 - acc: 1.0000 - recall_265: 1.0000 - false_positives_266: 0.0000e+00\n",
            "Epoch 24/50\n",
            "34/34 [==============================] - 2s 57ms/step - loss: 0.0677 - acc: 1.0000 - recall_265: 1.0000 - false_positives_266: 0.0000e+00\n",
            "Epoch 25/50\n",
            "34/34 [==============================] - 2s 57ms/step - loss: 0.0617 - acc: 0.9981 - recall_265: 0.9981 - false_positives_266: 1.0000\n",
            "Epoch 26/50\n",
            "34/34 [==============================] - 2s 57ms/step - loss: 0.0667 - acc: 0.9981 - recall_265: 0.9981 - false_positives_266: 1.0000\n",
            "Epoch 27/50\n",
            "34/34 [==============================] - 2s 57ms/step - loss: 0.0686 - acc: 0.9888 - recall_265: 0.9888 - false_positives_266: 6.0000\n",
            "Epoch 28/50\n",
            "34/34 [==============================] - 2s 57ms/step - loss: 0.0552 - acc: 0.9981 - recall_265: 0.9981 - false_positives_266: 1.0000\n",
            "Epoch 29/50\n",
            "34/34 [==============================] - 2s 57ms/step - loss: 0.0548 - acc: 0.9963 - recall_265: 0.9963 - false_positives_266: 2.0000\n",
            "Epoch 30/50\n",
            "34/34 [==============================] - 2s 57ms/step - loss: 0.0477 - acc: 0.9963 - recall_265: 0.9963 - false_positives_266: 2.0000\n",
            "Epoch 31/50\n",
            "34/34 [==============================] - 2s 57ms/step - loss: 0.0448 - acc: 1.0000 - recall_265: 1.0000 - false_positives_266: 0.0000e+00\n",
            "Epoch 32/50\n",
            "34/34 [==============================] - 2s 57ms/step - loss: 0.0457 - acc: 1.0000 - recall_265: 1.0000 - false_positives_266: 0.0000e+00\n",
            "Epoch 33/50\n",
            "34/34 [==============================] - 2s 57ms/step - loss: 0.0338 - acc: 1.0000 - recall_265: 1.0000 - false_positives_266: 0.0000e+00\n",
            "Epoch 34/50\n",
            "34/34 [==============================] - 2s 57ms/step - loss: 0.0441 - acc: 0.9963 - recall_265: 0.9963 - false_positives_266: 2.0000\n",
            "Epoch 35/50\n",
            "34/34 [==============================] - 2s 57ms/step - loss: 0.0342 - acc: 1.0000 - recall_265: 1.0000 - false_positives_266: 0.0000e+00\n",
            "Epoch 36/50\n",
            "34/34 [==============================] - 2s 57ms/step - loss: 0.0371 - acc: 0.9944 - recall_265: 0.9944 - false_positives_266: 3.0000\n",
            "Epoch 37/50\n",
            "34/34 [==============================] - 2s 57ms/step - loss: 0.0288 - acc: 1.0000 - recall_265: 1.0000 - false_positives_266: 0.0000e+00\n",
            "Epoch 38/50\n",
            "34/34 [==============================] - 2s 57ms/step - loss: 0.0249 - acc: 1.0000 - recall_265: 1.0000 - false_positives_266: 0.0000e+00\n",
            "Epoch 39/50\n",
            "34/34 [==============================] - 2s 57ms/step - loss: 0.0252 - acc: 0.9981 - recall_265: 0.9981 - false_positives_266: 1.0000\n",
            "Epoch 40/50\n",
            "34/34 [==============================] - 2s 57ms/step - loss: 0.0239 - acc: 1.0000 - recall_265: 1.0000 - false_positives_266: 0.0000e+00\n",
            "Epoch 41/50\n",
            "34/34 [==============================] - 2s 58ms/step - loss: 0.0338 - acc: 1.0000 - recall_265: 1.0000 - false_positives_266: 0.0000e+00\n",
            "Epoch 42/50\n",
            "34/34 [==============================] - 2s 59ms/step - loss: 0.0371 - acc: 0.9944 - recall_265: 0.9944 - false_positives_266: 3.0000\n",
            "Epoch 43/50\n",
            "34/34 [==============================] - 2s 57ms/step - loss: 0.0305 - acc: 1.0000 - recall_265: 1.0000 - false_positives_266: 0.0000e+00\n",
            "Epoch 44/50\n",
            "34/34 [==============================] - 2s 57ms/step - loss: 0.0189 - acc: 1.0000 - recall_265: 1.0000 - false_positives_266: 0.0000e+00\n",
            "Epoch 45/50\n",
            "34/34 [==============================] - 2s 57ms/step - loss: 0.0261 - acc: 0.9963 - recall_265: 0.9963 - false_positives_266: 2.0000\n",
            "Epoch 46/50\n",
            "34/34 [==============================] - 2s 57ms/step - loss: 0.0166 - acc: 1.0000 - recall_265: 1.0000 - false_positives_266: 0.0000e+00\n",
            "Epoch 47/50\n",
            "34/34 [==============================] - 2s 57ms/step - loss: 0.0198 - acc: 1.0000 - recall_265: 1.0000 - false_positives_266: 0.0000e+00\n",
            "Epoch 48/50\n",
            "34/34 [==============================] - 2s 57ms/step - loss: 0.0159 - acc: 1.0000 - recall_265: 1.0000 - false_positives_266: 0.0000e+00\n",
            "Epoch 49/50\n",
            "34/34 [==============================] - 2s 57ms/step - loss: 0.0196 - acc: 1.0000 - recall_265: 1.0000 - false_positives_266: 0.0000e+00\n",
            "Epoch 50/50\n",
            "34/34 [==============================] - 2s 57ms/step - loss: 0.0176 - acc: 0.9981 - recall_265: 0.9981 - false_positives_266: 1.0000\n"
          ]
        }
      ]
    }
  ]
}